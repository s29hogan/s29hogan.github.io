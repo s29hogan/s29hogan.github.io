{
 "cells": [
  {
   "cell_type": "code",
   "execution_count": 4,
   "id": "8a8f1cad",
   "metadata": {},
   "outputs": [
    {
     "data": {
      "text/html": [
       "<div>\n",
       "<style scoped>\n",
       "    .dataframe tbody tr th:only-of-type {\n",
       "        vertical-align: middle;\n",
       "    }\n",
       "\n",
       "    .dataframe tbody tr th {\n",
       "        vertical-align: top;\n",
       "    }\n",
       "\n",
       "    .dataframe thead th {\n",
       "        text-align: right;\n",
       "    }\n",
       "</style>\n",
       "<table border=\"1\" class=\"dataframe\">\n",
       "  <thead>\n",
       "    <tr style=\"text-align: right;\">\n",
       "      <th></th>\n",
       "      <th>High</th>\n",
       "      <th>Low</th>\n",
       "      <th>Open</th>\n",
       "      <th>Close</th>\n",
       "      <th>Volume</th>\n",
       "      <th>Adj Close</th>\n",
       "    </tr>\n",
       "    <tr>\n",
       "      <th>Date</th>\n",
       "      <th></th>\n",
       "      <th></th>\n",
       "      <th></th>\n",
       "      <th></th>\n",
       "      <th></th>\n",
       "      <th></th>\n",
       "    </tr>\n",
       "  </thead>\n",
       "  <tbody>\n",
       "    <tr>\n",
       "      <th>2021-05-12</th>\n",
       "      <td>25.129999</td>\n",
       "      <td>23.160</td>\n",
       "      <td>24.540001</td>\n",
       "      <td>23.240000</td>\n",
       "      <td>106900.0</td>\n",
       "      <td>22.605213</td>\n",
       "    </tr>\n",
       "    <tr>\n",
       "      <th>2021-05-13</th>\n",
       "      <td>23.510000</td>\n",
       "      <td>20.857</td>\n",
       "      <td>23.030001</td>\n",
       "      <td>21.490000</td>\n",
       "      <td>341000.0</td>\n",
       "      <td>20.903013</td>\n",
       "    </tr>\n",
       "    <tr>\n",
       "      <th>2021-05-14</th>\n",
       "      <td>23.400000</td>\n",
       "      <td>22.600</td>\n",
       "      <td>22.930000</td>\n",
       "      <td>23.320000</td>\n",
       "      <td>790800.0</td>\n",
       "      <td>22.683027</td>\n",
       "    </tr>\n",
       "    <tr>\n",
       "      <th>2021-05-17</th>\n",
       "      <td>23.600000</td>\n",
       "      <td>21.750</td>\n",
       "      <td>22.500000</td>\n",
       "      <td>22.379999</td>\n",
       "      <td>572700.0</td>\n",
       "      <td>21.768702</td>\n",
       "    </tr>\n",
       "    <tr>\n",
       "      <th>2021-05-18</th>\n",
       "      <td>22.980000</td>\n",
       "      <td>22.020</td>\n",
       "      <td>22.280001</td>\n",
       "      <td>22.270000</td>\n",
       "      <td>273200.0</td>\n",
       "      <td>21.661709</td>\n",
       "    </tr>\n",
       "  </tbody>\n",
       "</table>\n",
       "</div>"
      ],
      "text/plain": [
       "                 High     Low       Open      Close    Volume  Adj Close\n",
       "Date                                                                    \n",
       "2021-05-12  25.129999  23.160  24.540001  23.240000  106900.0  22.605213\n",
       "2021-05-13  23.510000  20.857  23.030001  21.490000  341000.0  20.903013\n",
       "2021-05-14  23.400000  22.600  22.930000  23.320000  790800.0  22.683027\n",
       "2021-05-17  23.600000  21.750  22.500000  22.379999  572700.0  21.768702\n",
       "2021-05-18  22.980000  22.020  22.280001  22.270000  273200.0  21.661709"
      ]
     },
     "execution_count": 4,
     "metadata": {},
     "output_type": "execute_result"
    }
   ],
   "source": [
    "import pandas as pd\n",
    "import numpy as np\n",
    "from pandas_datareader import data as wb\n",
    "import matplotlib.pyplot as plt\n",
    "%matplotlib inline\n",
    "\n",
    "import datetime\n",
    "\n",
    "eth_data = pd.read_csv(r'C:\\Users\\saart\\Desktop\\Portfolio\\Cryto data\\Binance_ETHUSDT_d.csv')\n",
    "btc_data = pd.read_csv(r'C:\\Users\\saart\\Desktop\\Portfolio\\Cryto data\\Binance_BTCUSDT_d.csv')\n",
    "\n",
    "bitq_data = wb.DataReader('BITQ',data_source='yahoo',start='2021-05-01',end='2022-01-21')\n",
    "\n",
    "\n",
    "#Quick check\n",
    "#eth_data.head()\n",
    "bitq_data.head()"
   ]
  },
  {
   "cell_type": "code",
   "execution_count": 22,
   "id": "302ac7f1",
   "metadata": {},
   "outputs": [
    {
     "data": {
      "text/html": [
       "<div>\n",
       "<style scoped>\n",
       "    .dataframe tbody tr th:only-of-type {\n",
       "        vertical-align: middle;\n",
       "    }\n",
       "\n",
       "    .dataframe tbody tr th {\n",
       "        vertical-align: top;\n",
       "    }\n",
       "\n",
       "    .dataframe thead th {\n",
       "        text-align: right;\n",
       "    }\n",
       "</style>\n",
       "<table border=\"1\" class=\"dataframe\">\n",
       "  <thead>\n",
       "    <tr style=\"text-align: right;\">\n",
       "      <th></th>\n",
       "      <th>ETH</th>\n",
       "      <th>BTC</th>\n",
       "    </tr>\n",
       "    <tr>\n",
       "      <th>date</th>\n",
       "      <th></th>\n",
       "      <th></th>\n",
       "    </tr>\n",
       "  </thead>\n",
       "  <tbody>\n",
       "    <tr>\n",
       "      <th>2022-01-21 00:00:00</th>\n",
       "      <td>2995.99</td>\n",
       "      <td>40710.99</td>\n",
       "    </tr>\n",
       "    <tr>\n",
       "      <th>2022-01-20 00:00:00</th>\n",
       "      <td>3001.48</td>\n",
       "      <td>40680.91</td>\n",
       "    </tr>\n",
       "    <tr>\n",
       "      <th>2022-01-19 00:00:00</th>\n",
       "      <td>3084.02</td>\n",
       "      <td>41660.01</td>\n",
       "    </tr>\n",
       "    <tr>\n",
       "      <th>2022-01-18 00:00:00</th>\n",
       "      <td>3159.85</td>\n",
       "      <td>42352.12</td>\n",
       "    </tr>\n",
       "    <tr>\n",
       "      <th>2022-01-17 00:00:00</th>\n",
       "      <td>3209.67</td>\n",
       "      <td>42201.62</td>\n",
       "    </tr>\n",
       "    <tr>\n",
       "      <th>...</th>\n",
       "      <td>...</td>\n",
       "      <td>...</td>\n",
       "    </tr>\n",
       "    <tr>\n",
       "      <th>21 08 2017</th>\n",
       "      <td>323.29</td>\n",
       "      <td>4016.00</td>\n",
       "    </tr>\n",
       "    <tr>\n",
       "      <th>20 08 2017</th>\n",
       "      <td>299.10</td>\n",
       "      <td>4086.29</td>\n",
       "    </tr>\n",
       "    <tr>\n",
       "      <th>19 08 2017</th>\n",
       "      <td>290.91</td>\n",
       "      <td>4139.98</td>\n",
       "    </tr>\n",
       "    <tr>\n",
       "      <th>18 08 2017</th>\n",
       "      <td>293.96</td>\n",
       "      <td>4108.37</td>\n",
       "    </tr>\n",
       "    <tr>\n",
       "      <th>17 08 2017</th>\n",
       "      <td>302.00</td>\n",
       "      <td>4285.08</td>\n",
       "    </tr>\n",
       "  </tbody>\n",
       "</table>\n",
       "<p>1620 rows × 2 columns</p>\n",
       "</div>"
      ],
      "text/plain": [
       "                         ETH       BTC\n",
       "date                                  \n",
       "2022-01-21 00:00:00  2995.99  40710.99\n",
       "2022-01-20 00:00:00  3001.48  40680.91\n",
       "2022-01-19 00:00:00  3084.02  41660.01\n",
       "2022-01-18 00:00:00  3159.85  42352.12\n",
       "2022-01-17 00:00:00  3209.67  42201.62\n",
       "...                      ...       ...\n",
       "21 08 2017            323.29   4016.00\n",
       "20 08 2017            299.10   4086.29\n",
       "19 08 2017            290.91   4139.98\n",
       "18 08 2017            293.96   4108.37\n",
       "17 08 2017            302.00   4285.08\n",
       "\n",
       "[1620 rows x 2 columns]"
      ]
     },
     "execution_count": 22,
     "metadata": {},
     "output_type": "execute_result"
    }
   ],
   "source": [
    "#Collecting dates and closing prices from the data\n",
    "db_eth = eth_data.iloc[:,[1,6]]\n",
    "db_btc = btc_data.iloc[:,[1,6]]\n",
    "\n",
    "#Merging all three crypto data on the date\n",
    "ETHxBTC = pd.merge(db_eth, db_btc, on='date', how='outer')\n",
    "\n",
    "#Renaming the columns\n",
    "cols = {'close_x':'ETH','close_y':'BTC'}\n",
    "ExB = ETHxBTC.rename(columns =cols, inplace= False)\n",
    "\n",
    "#Setting the index as the date\n",
    "ExB.set_index('date')"
   ]
  },
  {
   "cell_type": "code",
   "execution_count": 65,
   "id": "59117d68",
   "metadata": {},
   "outputs": [
    {
     "data": {
      "image/png": "[encoded data removed]",
      "text/plain": [
       "<Figure size 432x288 with 1 Axes>"
      ]
     },
     "metadata": {
      "needs_background": "light"
     },
     "output_type": "display_data"
    },
    {
     "data": {
      "text/plain": [
       "<Figure size 720x360 with 0 Axes>"
      ]
     },
     "metadata": {},
     "output_type": "display_data"
    }
   ],
   "source": [
    "#Normalised data\n",
    "x1 = ExB['ETH']/ExB['ETH'].iloc[0]*100\n",
    "x2 = ExB['BTC']/ExB['BTC'].iloc[0]*100\n",
    "\n",
    "plt.plot(x1,'-b',label='ETH')\n",
    "plt.plot(x2,'-r',label='BTC')\n",
    "plt.title('BTC and ETH closing price normalised')\n",
    "\n",
    "plt.legend()\n",
    "\n",
    "plt.figure(figsize=(10,5))\n",
    "\n",
    "plt.show()"
   ]
  },
  {
   "cell_type": "code",
   "execution_count": 66,
   "id": "2a00791c",
   "metadata": {},
   "outputs": [
    {
     "data": {
      "text/plain": [
       "<function matplotlib.pyplot.show(close=None, block=None)>"
      ]
     },
     "execution_count": 66,
     "metadata": {},
     "output_type": "execute_result"
    },
    {
     "data": {
      "image/png": "[encoded data removed]",
      "text/plain": [
       "<Figure size 432x288 with 1 Axes>"
      ]
     },
     "metadata": {
      "needs_background": "light"
     },
     "output_type": "display_data"
    }
   ],
   "source": [
    "# Log graphs\n",
    "log_eth = ExB['ETH']/ExB['ETH'].shift(1)\n",
    "log_btc = ExB['BTC']/ExB['BTC'].shift(1)\n",
    "\n",
    "plt.plot(log_eth,'-y',label='ETH')\n",
    "plt.plot(log_btc,'-g',label='BTC')\n",
    "plt.title('BTC and ETH log graphs')\n",
    "plt.legend()\n",
    "plt.show"
   ]
  },
  {
   "cell_type": "code",
   "execution_count": 59,
   "id": "c04165b1",
   "metadata": {},
   "outputs": [
    {
     "data": {
      "text/plain": [
       "1.0000793998376218"
      ]
     },
     "execution_count": 59,
     "metadata": {},
     "output_type": "execute_result"
    }
   ],
   "source": [
    "log_eth.mean()"
   ]
  },
  {
   "cell_type": "code",
   "execution_count": 60,
   "id": "9b134db5",
   "metadata": {},
   "outputs": [
    {
     "data": {
      "text/plain": [
       "0.9995366969607314"
      ]
     },
     "execution_count": 60,
     "metadata": {},
     "output_type": "execute_result"
    }
   ],
   "source": [
    "log_btc.mean()"
   ]
  },
  {
   "cell_type": "code",
   "execution_count": 62,
   "id": "228b4144",
   "metadata": {},
   "outputs": [
    {
     "data": {
      "text/html": [
       "<div>\n",
       "<style scoped>\n",
       "    .dataframe tbody tr th:only-of-type {\n",
       "        vertical-align: middle;\n",
       "    }\n",
       "\n",
       "    .dataframe tbody tr th {\n",
       "        vertical-align: top;\n",
       "    }\n",
       "\n",
       "    .dataframe thead th {\n",
       "        text-align: right;\n",
       "    }\n",
       "</style>\n",
       "<table border=\"1\" class=\"dataframe\">\n",
       "  <thead>\n",
       "    <tr style=\"text-align: right;\">\n",
       "      <th></th>\n",
       "      <th>ETH</th>\n",
       "      <th>BTC</th>\n",
       "    </tr>\n",
       "  </thead>\n",
       "  <tbody>\n",
       "    <tr>\n",
       "      <th>ETH</th>\n",
       "      <td>1.000000</td>\n",
       "      <td>0.921428</td>\n",
       "    </tr>\n",
       "    <tr>\n",
       "      <th>BTC</th>\n",
       "      <td>0.921428</td>\n",
       "      <td>1.000000</td>\n",
       "    </tr>\n",
       "  </tbody>\n",
       "</table>\n",
       "</div>"
      ],
      "text/plain": [
       "          ETH       BTC\n",
       "ETH  1.000000  0.921428\n",
       "BTC  0.921428  1.000000"
      ]
     },
     "execution_count": 62,
     "metadata": {},
     "output_type": "execute_result"
    }
   ],
   "source": [
    "ExB.corr()"
   ]
  }
 ],
 "metadata": {
  "kernelspec": {
   "display_name": "Python 3",
   "language": "python",
   "name": "python3"
  },
  "language_info": {
   "codemirror_mode": {
    "name": "ipython",
    "version": 3
   },
   "file_extension": ".py",
   "mimetype": "text/x-python",
   "name": "python",
   "nbconvert_exporter": "python",
   "pygments_lexer": "ipython3",
   "version": "3.8.8"
  }
 },
 "nbformat": 4,
 "nbformat_minor": 5
}
