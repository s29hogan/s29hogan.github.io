{
 "cells": [
  {
   "cell_type": "code",
   "execution_count": 18,
   "id": "8a8f1cad",
   "metadata": {},
   "outputs": [
    {
     "data": {
      "text/html": [
       "<div>\n",
       "<style scoped>\n",
       "    .dataframe tbody tr th:only-of-type {\n",
       "        vertical-align: middle;\n",
       "    }\n",
       "\n",
       "    .dataframe tbody tr th {\n",
       "        vertical-align: top;\n",
       "    }\n",
       "\n",
       "    .dataframe thead th {\n",
       "        text-align: right;\n",
       "    }\n",
       "</style>\n",
       "<table border=\"1\" class=\"dataframe\">\n",
       "  <thead>\n",
       "    <tr style=\"text-align: right;\">\n",
       "      <th></th>\n",
       "      <th>unix</th>\n",
       "      <th>Date</th>\n",
       "      <th>symbol</th>\n",
       "      <th>open</th>\n",
       "      <th>high</th>\n",
       "      <th>low</th>\n",
       "      <th>close</th>\n",
       "      <th>Volume ETH</th>\n",
       "      <th>Volume USDT</th>\n",
       "      <th>tradecount</th>\n",
       "    </tr>\n",
       "  </thead>\n",
       "  <tbody>\n",
       "    <tr>\n",
       "      <th>0</th>\n",
       "      <td>1.640000e+12</td>\n",
       "      <td>21 01 2022</td>\n",
       "      <td>ETH/USDT</td>\n",
       "      <td>3001.48</td>\n",
       "      <td>3008.97</td>\n",
       "      <td>2972.70</td>\n",
       "      <td>2995.99</td>\n",
       "      <td>10440.7740</td>\n",
       "      <td>3.120522e+07</td>\n",
       "      <td>23981</td>\n",
       "    </tr>\n",
       "    <tr>\n",
       "      <th>1</th>\n",
       "      <td>1.640000e+12</td>\n",
       "      <td>20 01 2022</td>\n",
       "      <td>ETH/USDT</td>\n",
       "      <td>3084.02</td>\n",
       "      <td>3273.37</td>\n",
       "      <td>2987.15</td>\n",
       "      <td>3001.48</td>\n",
       "      <td>357596.7062</td>\n",
       "      <td>1.124982e+09</td>\n",
       "      <td>718946</td>\n",
       "    </tr>\n",
       "    <tr>\n",
       "      <th>2</th>\n",
       "      <td>1.640000e+12</td>\n",
       "      <td>19 01 2022</td>\n",
       "      <td>ETH/USDT</td>\n",
       "      <td>3159.85</td>\n",
       "      <td>3174.87</td>\n",
       "      <td>3000.00</td>\n",
       "      <td>3084.02</td>\n",
       "      <td>332996.5703</td>\n",
       "      <td>1.035250e+09</td>\n",
       "      <td>647383</td>\n",
       "    </tr>\n",
       "    <tr>\n",
       "      <th>3</th>\n",
       "      <td>1.640000e+12</td>\n",
       "      <td>18 01 2022</td>\n",
       "      <td>ETH/USDT</td>\n",
       "      <td>3209.68</td>\n",
       "      <td>3243.87</td>\n",
       "      <td>3082.00</td>\n",
       "      <td>3159.85</td>\n",
       "      <td>299134.2728</td>\n",
       "      <td>9.431408e+08</td>\n",
       "      <td>579484</td>\n",
       "    </tr>\n",
       "    <tr>\n",
       "      <th>4</th>\n",
       "      <td>1.640000e+12</td>\n",
       "      <td>17 01 2022</td>\n",
       "      <td>ETH/USDT</td>\n",
       "      <td>3346.89</td>\n",
       "      <td>3357.57</td>\n",
       "      <td>3141.10</td>\n",
       "      <td>3209.67</td>\n",
       "      <td>284063.6548</td>\n",
       "      <td>9.225686e+08</td>\n",
       "      <td>646419</td>\n",
       "    </tr>\n",
       "  </tbody>\n",
       "</table>\n",
       "</div>"
      ],
      "text/plain": [
       "           unix        Date    symbol     open     high      low    close  \\\n",
       "0  1.640000e+12  21 01 2022  ETH/USDT  3001.48  3008.97  2972.70  2995.99   \n",
       "1  1.640000e+12  20 01 2022  ETH/USDT  3084.02  3273.37  2987.15  3001.48   \n",
       "2  1.640000e+12  19 01 2022  ETH/USDT  3159.85  3174.87  3000.00  3084.02   \n",
       "3  1.640000e+12  18 01 2022  ETH/USDT  3209.68  3243.87  3082.00  3159.85   \n",
       "4  1.640000e+12  17 01 2022  ETH/USDT  3346.89  3357.57  3141.10  3209.67   \n",
       "\n",
       "    Volume ETH   Volume USDT  tradecount  \n",
       "0   10440.7740  3.120522e+07       23981  \n",
       "1  357596.7062  1.124982e+09      718946  \n",
       "2  332996.5703  1.035250e+09      647383  \n",
       "3  299134.2728  9.431408e+08      579484  \n",
       "4  284063.6548  9.225686e+08      646419  "
      ]
     },
     "execution_count": 18,
     "metadata": {},
     "output_type": "execute_result"
    }
   ],
   "source": [
    "import pandas as pd\n",
    "import numpy as np\n",
    "from pandas_datareader import data as wb\n",
    "import matplotlib.pyplot as plt\n",
    "%matplotlib inline\n",
    "import datetime\n",
    "\n",
    "eth_data = pd.read_csv(r'C:\\Users\\saart\\Desktop\\Portfolio\\Cryto data\\Binance_ETHUSDT_d_Shortened.csv')\n",
    "bitq_data = pd.read_csv(r'C:\\Users\\saart\\Desktop\\Portfolio\\Cryto data\\BITQ.csv')\n",
    "\n",
    "#Quick check\n",
    "eth_data.head()\n",
    "#bitq_data.head()"
   ]
  },
  {
   "cell_type": "code",
   "execution_count": 21,
   "id": "302ac7f1",
   "metadata": {},
   "outputs": [
    {
     "data": {
      "text/html": [
       "<div>\n",
       "<style scoped>\n",
       "    .dataframe tbody tr th:only-of-type {\n",
       "        vertical-align: middle;\n",
       "    }\n",
       "\n",
       "    .dataframe tbody tr th {\n",
       "        vertical-align: top;\n",
       "    }\n",
       "\n",
       "    .dataframe thead th {\n",
       "        text-align: right;\n",
       "    }\n",
       "</style>\n",
       "<table border=\"1\" class=\"dataframe\">\n",
       "  <thead>\n",
       "    <tr style=\"text-align: right;\">\n",
       "      <th></th>\n",
       "      <th>Date</th>\n",
       "      <th>ETH</th>\n",
       "      <th>BITQ</th>\n",
       "    </tr>\n",
       "  </thead>\n",
       "  <tbody>\n",
       "    <tr>\n",
       "      <th>0</th>\n",
       "      <td>21 01 2022</td>\n",
       "      <td>2995.99</td>\n",
       "      <td>15.260000</td>\n",
       "    </tr>\n",
       "    <tr>\n",
       "      <th>1</th>\n",
       "      <td>20 01 2022</td>\n",
       "      <td>3001.48</td>\n",
       "      <td>17.379999</td>\n",
       "    </tr>\n",
       "    <tr>\n",
       "      <th>2</th>\n",
       "      <td>19 01 2022</td>\n",
       "      <td>3084.02</td>\n",
       "      <td>17.360001</td>\n",
       "    </tr>\n",
       "    <tr>\n",
       "      <th>3</th>\n",
       "      <td>18 01 2022</td>\n",
       "      <td>3159.85</td>\n",
       "      <td>17.639999</td>\n",
       "    </tr>\n",
       "    <tr>\n",
       "      <th>4</th>\n",
       "      <td>17 01 2022</td>\n",
       "      <td>3209.67</td>\n",
       "      <td>NaN</td>\n",
       "    </tr>\n",
       "    <tr>\n",
       "      <th>...</th>\n",
       "      <td>...</td>\n",
       "      <td>...</td>\n",
       "      <td>...</td>\n",
       "    </tr>\n",
       "    <tr>\n",
       "      <th>276</th>\n",
       "      <td>NaN</td>\n",
       "      <td>NaN</td>\n",
       "      <td>NaN</td>\n",
       "    </tr>\n",
       "    <tr>\n",
       "      <th>277</th>\n",
       "      <td>NaN</td>\n",
       "      <td>NaN</td>\n",
       "      <td>NaN</td>\n",
       "    </tr>\n",
       "    <tr>\n",
       "      <th>278</th>\n",
       "      <td>NaN</td>\n",
       "      <td>NaN</td>\n",
       "      <td>NaN</td>\n",
       "    </tr>\n",
       "    <tr>\n",
       "      <th>279</th>\n",
       "      <td>NaN</td>\n",
       "      <td>NaN</td>\n",
       "      <td>NaN</td>\n",
       "    </tr>\n",
       "    <tr>\n",
       "      <th>280</th>\n",
       "      <td>NaN</td>\n",
       "      <td>NaN</td>\n",
       "      <td>NaN</td>\n",
       "    </tr>\n",
       "  </tbody>\n",
       "</table>\n",
       "<p>281 rows × 3 columns</p>\n",
       "</div>"
      ],
      "text/plain": [
       "           Date      ETH       BITQ\n",
       "0    21 01 2022  2995.99  15.260000\n",
       "1    20 01 2022  3001.48  17.379999\n",
       "2    19 01 2022  3084.02  17.360001\n",
       "3    18 01 2022  3159.85  17.639999\n",
       "4    17 01 2022  3209.67        NaN\n",
       "..          ...      ...        ...\n",
       "276         NaN      NaN        NaN\n",
       "277         NaN      NaN        NaN\n",
       "278         NaN      NaN        NaN\n",
       "279         NaN      NaN        NaN\n",
       "280         NaN      NaN        NaN\n",
       "\n",
       "[281 rows x 3 columns]"
      ]
     },
     "execution_count": 21,
     "metadata": {},
     "output_type": "execute_result"
    }
   ],
   "source": [
    "#Collecting dates and closing prices from the data\n",
    "db_eth = eth_data.iloc[:,[1,6]]\n",
    "db_bitq = bitq_data.iloc[:,[0,5]]\n",
    "\n",
    "#Merging crypto data on the date\n",
    "ETHxBITQ = pd.merge(db_eth, db_bitq,on='Date', how='outer')\n",
    "ETHxBITQ\n",
    "\n",
    "#Renaming the columns\n",
    "cols = {'close':'ETH','Adj Close':'BITQ'}\n",
    "ExB = ETHxBITQ.rename(columns =cols, inplace= False)\n",
    "\n",
    "#Setting the index as the date\n",
    "ExB.set_index('Date')\n",
    "ExB"
   ]
  },
  {
   "cell_type": "code",
   "execution_count": 36,
   "id": "59117d68",
   "metadata": {},
   "outputs": [
    {
     "data": {
      "image/png": "[encoded data removed]",
      "text/plain": [
       "<Figure size 576x396 with 1 Axes>"
      ]
     },
     "metadata": {},
     "output_type": "display_data"
    },
    {
     "data": {
      "text/plain": [
       "<Figure size 720x360 with 0 Axes>"
      ]
     },
     "metadata": {},
     "output_type": "display_data"
    }
   ],
   "source": [
    "#Normalised data\n",
    "x1 = ExB['ETH']/ExB['ETH'].iloc[0]*100\n",
    "x2 = ExB['BITQ']/ExB['BITQ'].iloc[0]*100\n",
    "\n",
    "plt.plot(x1,c='green',label='ETH')\n",
    "plt.plot(x2,c='blue',label='BITQ')\n",
    "plt.title('BTC and ETH closing price normalised')\n",
    "plt.style.use('tableau-colorblind10')\n",
    "plt.legend()\n",
    "\n",
    "plt.figure(figsize=(10,5))\n",
    "\n",
    "plt.show()"
   ]
  },
  {
   "cell_type": "code",
   "execution_count": 41,
   "id": "2a00791c",
   "metadata": {},
   "outputs": [
    {
     "data": {
      "text/plain": [
       "<function matplotlib.pyplot.show(close=None, block=None)>"
      ]
     },
     "execution_count": 41,
     "metadata": {},
     "output_type": "execute_result"
    },
    {
     "data": {
      "image/png": "[encoded data removed]",
      "text/plain": [
       "<Figure size 576x396 with 1 Axes>"
      ]
     },
     "metadata": {},
     "output_type": "display_data"
    }
   ],
   "source": [
    "# Log graphs\n",
    "log_eth = ExB['ETH']/ExB['ETH'].shift(1)\n",
    "log_bitq = ExB['BITQ']/ExB['BITQ'].shift(1)\n",
    "\n",
    "plt.plot(log_eth,'-y',label='ETH')\n",
    "plt.plot(log_btc,'-g',label='BITQ')\n",
    "plt.title('BTC and ETH log graphs')\n",
    "plt.legend()\n",
    "plt.show"
   ]
  },
  {
   "cell_type": "code",
   "execution_count": 39,
   "id": "c04165b1",
   "metadata": {},
   "outputs": [
    {
     "data": {
      "text/plain": [
       "1.0014386969823335"
      ]
     },
     "execution_count": 39,
     "metadata": {},
     "output_type": "execute_result"
    }
   ],
   "source": [
    "log_eth.mean()"
   ]
  },
  {
   "cell_type": "code",
   "execution_count": 42,
   "id": "9b134db5",
   "metadata": {},
   "outputs": [
    {
     "data": {
      "text/plain": [
       "1.0033960405529094"
      ]
     },
     "execution_count": 42,
     "metadata": {},
     "output_type": "execute_result"
    }
   ],
   "source": [
    "log_bitq.mean()"
   ]
  },
  {
   "cell_type": "code",
   "execution_count": 43,
   "id": "956f0d1c",
   "metadata": {},
   "outputs": [
    {
     "data": {
      "text/html": [
       "<div>\n",
       "<style scoped>\n",
       "    .dataframe tbody tr th:only-of-type {\n",
       "        vertical-align: middle;\n",
       "    }\n",
       "\n",
       "    .dataframe tbody tr th {\n",
       "        vertical-align: top;\n",
       "    }\n",
       "\n",
       "    .dataframe thead th {\n",
       "        text-align: right;\n",
       "    }\n",
       "</style>\n",
       "<table border=\"1\" class=\"dataframe\">\n",
       "  <thead>\n",
       "    <tr style=\"text-align: right;\">\n",
       "      <th></th>\n",
       "      <th>ETH</th>\n",
       "      <th>BITQ</th>\n",
       "    </tr>\n",
       "  </thead>\n",
       "  <tbody>\n",
       "    <tr>\n",
       "      <th>ETH</th>\n",
       "      <td>1.558924e+08</td>\n",
       "      <td>439345.790541</td>\n",
       "    </tr>\n",
       "    <tr>\n",
       "      <th>BITQ</th>\n",
       "      <td>4.393458e+05</td>\n",
       "      <td>2729.324504</td>\n",
       "    </tr>\n",
       "  </tbody>\n",
       "</table>\n",
       "</div>"
      ],
      "text/plain": [
       "               ETH           BITQ\n",
       "ETH   1.558924e+08  439345.790541\n",
       "BITQ  4.393458e+05    2729.324504"
      ]
     },
     "execution_count": 43,
     "metadata": {},
     "output_type": "execute_result"
    }
   ],
   "source": [
    "# Calculating the covarieance\n",
    "cov = ExB.cov() *250\n",
    "cov"
   ]
  },
  {
   "cell_type": "code",
   "execution_count": 44,
   "id": "228b4144",
   "metadata": {},
   "outputs": [
    {
     "data": {
      "text/html": [
       "<div>\n",
       "<style scoped>\n",
       "    .dataframe tbody tr th:only-of-type {\n",
       "        vertical-align: middle;\n",
       "    }\n",
       "\n",
       "    .dataframe tbody tr th {\n",
       "        vertical-align: top;\n",
       "    }\n",
       "\n",
       "    .dataframe thead th {\n",
       "        text-align: right;\n",
       "    }\n",
       "</style>\n",
       "<table border=\"1\" class=\"dataframe\">\n",
       "  <thead>\n",
       "    <tr style=\"text-align: right;\">\n",
       "      <th></th>\n",
       "      <th>ETH</th>\n",
       "      <th>BITQ</th>\n",
       "    </tr>\n",
       "  </thead>\n",
       "  <tbody>\n",
       "    <tr>\n",
       "      <th>ETH</th>\n",
       "      <td>1.00000</td>\n",
       "      <td>0.66641</td>\n",
       "    </tr>\n",
       "    <tr>\n",
       "      <th>BITQ</th>\n",
       "      <td>0.66641</td>\n",
       "      <td>1.00000</td>\n",
       "    </tr>\n",
       "  </tbody>\n",
       "</table>\n",
       "</div>"
      ],
      "text/plain": [
       "          ETH     BITQ\n",
       "ETH   1.00000  0.66641\n",
       "BITQ  0.66641  1.00000"
      ]
     },
     "execution_count": 44,
     "metadata": {},
     "output_type": "execute_result"
    }
   ],
   "source": [
    "#\n",
    "ExB.corr()"
   ]
  },
  {
   "cell_type": "code",
   "execution_count": 46,
   "id": "1814abe6",
   "metadata": {},
   "outputs": [
    {
     "data": {
      "text/plain": [
       "0.0028182622375714297"
      ]
     },
     "execution_count": 46,
     "metadata": {},
     "output_type": "execute_result"
    }
   ],
   "source": [
    "# Calculating the securities Beta\n",
    "# The riskier the stock the higher the Beta\n",
    "cov_with_market = cov.iloc[0,1]\n",
    "\n",
    "eth_market_var = ExB['ETH'].var()*250\n",
    "\n",
    "ETH_beta = cov_with_market / eth_market_var\n",
    "ETH_beta\n",
    "\n"
   ]
  },
  {
   "cell_type": "code",
   "execution_count": null,
   "id": "7aa66d74",
   "metadata": {},
   "outputs": [],
   "source": [
    "#Lets use the top 10 crypto index as the 'Market'"
   ]
  }
 ],
 "metadata": {
  "kernelspec": {
   "display_name": "Python 3",
   "language": "python",
   "name": "python3"
  },
  "language_info": {
   "codemirror_mode": {
    "name": "ipython",
    "version": 3
   },
   "file_extension": ".py",
   "mimetype": "text/x-python",
   "name": "python",
   "nbconvert_exporter": "python",
   "pygments_lexer": "ipython3",
   "version": "3.8.8"
  }
 },
 "nbformat": 4,
 "nbformat_minor": 5
}
